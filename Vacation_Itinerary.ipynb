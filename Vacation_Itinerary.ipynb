{
 "cells": [
  {
   "cell_type": "markdown",
   "metadata": {},
   "source": [
    "## Deliverable 3. Create a Travel Itinerary Map."
   ]
  },
  {
   "cell_type": "code",
   "execution_count": 48,
   "metadata": {},
   "outputs": [],
   "source": [
    "# Dependencies and Setup\n",
    "import pandas as pd\n",
    "import requests\n",
    "import gmaps\n",
    "\n",
    "# Import API key\n",
    "from config import geo_code_key\n",
    "\n",
    "# Configure gmaps\n",
    "gmaps.configure(api_key=geo_code_key)"
   ]
  },
  {
   "cell_type": "code",
   "execution_count": 49,
   "metadata": {},
   "outputs": [
    {
     "data": {
      "text/html": [
       "<div>\n",
       "<style scoped>\n",
       "    .dataframe tbody tr th:only-of-type {\n",
       "        vertical-align: middle;\n",
       "    }\n",
       "\n",
       "    .dataframe tbody tr th {\n",
       "        vertical-align: top;\n",
       "    }\n",
       "\n",
       "    .dataframe thead th {\n",
       "        text-align: right;\n",
       "    }\n",
       "</style>\n",
       "<table border=\"1\" class=\"dataframe\">\n",
       "  <thead>\n",
       "    <tr style=\"text-align: right;\">\n",
       "      <th></th>\n",
       "      <th>City_ID</th>\n",
       "      <th>City</th>\n",
       "      <th>Country</th>\n",
       "      <th>Max Temp</th>\n",
       "      <th>Current Description</th>\n",
       "      <th>Lat</th>\n",
       "      <th>Lng</th>\n",
       "      <th>Hotel Name</th>\n",
       "    </tr>\n",
       "  </thead>\n",
       "  <tbody>\n",
       "    <tr>\n",
       "      <th>0</th>\n",
       "      <td>0</td>\n",
       "      <td>trairi</td>\n",
       "      <td>BR</td>\n",
       "      <td>78.48</td>\n",
       "      <td>broken clouds</td>\n",
       "      <td>-3.2778</td>\n",
       "      <td>-39.2689</td>\n",
       "      <td>janelas do mar</td>\n",
       "    </tr>\n",
       "    <tr>\n",
       "      <th>1</th>\n",
       "      <td>2</td>\n",
       "      <td>bengkulu</td>\n",
       "      <td>ID</td>\n",
       "      <td>77.25</td>\n",
       "      <td>light rain</td>\n",
       "      <td>-3.8004</td>\n",
       "      <td>102.2655</td>\n",
       "      <td>Grage Hotel Bengkulu</td>\n",
       "    </tr>\n",
       "    <tr>\n",
       "      <th>2</th>\n",
       "      <td>5</td>\n",
       "      <td>rikitea</td>\n",
       "      <td>PF</td>\n",
       "      <td>76.86</td>\n",
       "      <td>light rain</td>\n",
       "      <td>-23.1203</td>\n",
       "      <td>-134.9692</td>\n",
       "      <td>People ThankYou</td>\n",
       "    </tr>\n",
       "    <tr>\n",
       "      <th>3</th>\n",
       "      <td>7</td>\n",
       "      <td>noumea</td>\n",
       "      <td>NC</td>\n",
       "      <td>75.99</td>\n",
       "      <td>overcast clouds</td>\n",
       "      <td>-22.2763</td>\n",
       "      <td>166.4572</td>\n",
       "      <td>Hôtel Le Lagon</td>\n",
       "    </tr>\n",
       "    <tr>\n",
       "      <th>4</th>\n",
       "      <td>13</td>\n",
       "      <td>vaini</td>\n",
       "      <td>TO</td>\n",
       "      <td>77.16</td>\n",
       "      <td>scattered clouds</td>\n",
       "      <td>-21.2000</td>\n",
       "      <td>-175.2000</td>\n",
       "      <td>Keleti Beach Resort</td>\n",
       "    </tr>\n",
       "  </tbody>\n",
       "</table>\n",
       "</div>"
      ],
      "text/plain": [
       "   City_ID      City Country  Max Temp Current Description      Lat       Lng  \\\n",
       "0        0    trairi      BR     78.48       broken clouds  -3.2778  -39.2689   \n",
       "1        2  bengkulu      ID     77.25          light rain  -3.8004  102.2655   \n",
       "2        5   rikitea      PF     76.86          light rain -23.1203 -134.9692   \n",
       "3        7    noumea      NC     75.99     overcast clouds -22.2763  166.4572   \n",
       "4       13     vaini      TO     77.16    scattered clouds -21.2000 -175.2000   \n",
       "\n",
       "             Hotel Name  \n",
       "0        janelas do mar  \n",
       "1  Grage Hotel Bengkulu  \n",
       "2       People ThankYou  \n",
       "3        Hôtel Le Lagon  \n",
       "4   Keleti Beach Resort  "
      ]
     },
     "execution_count": 49,
     "metadata": {},
     "output_type": "execute_result"
    }
   ],
   "source": [
    "# 1. Read the WeatherPy_vacation.csv into a DataFrame.\n",
    "vacation_df = pd.read_csv(\"..\\Vacation_Search\\WeatherPy_vacation.csv\")\n",
    "vacation_df.head()"
   ]
  },
  {
   "cell_type": "code",
   "execution_count": 50,
   "metadata": {},
   "outputs": [
    {
     "name": "stdout",
     "output_type": "stream",
     "text": [
      "['\\n<dl>\\n<dt>Hotel Name</dt><dd>janelas do mar</dd>\\n<dt>City</dt><dd>trairi</dd>\\n<dt>Current Description</dt><dd>broken clouds</dd>\\n<dt>Country</dt><dd>BR</dd>\\n<dt>Max Temp</dt><dd>78.48 °F</dd>\\n</dl>\\n', '\\n<dl>\\n<dt>Hotel Name</dt><dd>Grage Hotel Bengkulu</dd>\\n<dt>City</dt><dd>bengkulu</dd>\\n<dt>Current Description</dt><dd>light rain</dd>\\n<dt>Country</dt><dd>ID</dd>\\n<dt>Max Temp</dt><dd>77.25 °F</dd>\\n</dl>\\n', '\\n<dl>\\n<dt>Hotel Name</dt><dd>People ThankYou</dd>\\n<dt>City</dt><dd>rikitea</dd>\\n<dt>Current Description</dt><dd>light rain</dd>\\n<dt>Country</dt><dd>PF</dd>\\n<dt>Max Temp</dt><dd>76.86 °F</dd>\\n</dl>\\n', '\\n<dl>\\n<dt>Hotel Name</dt><dd>Hôtel Le Lagon</dd>\\n<dt>City</dt><dd>noumea</dd>\\n<dt>Current Description</dt><dd>overcast clouds</dd>\\n<dt>Country</dt><dd>NC</dd>\\n<dt>Max Temp</dt><dd>75.99 °F</dd>\\n</dl>\\n', '\\n<dl>\\n<dt>Hotel Name</dt><dd>Keleti Beach Resort</dd>\\n<dt>City</dt><dd>vaini</dd>\\n<dt>Current Description</dt><dd>scattered clouds</dd>\\n<dt>Country</dt><dd>TO</dd>\\n<dt>Max Temp</dt><dd>77.16 °F</dd>\\n</dl>\\n', '\\n<dl>\\n<dt>Hotel Name</dt><dd>nan</dd>\\n<dt>City</dt><dd>merced</dd>\\n<dt>Current Description</dt><dd>clear sky</dd>\\n<dt>Country</dt><dd>US</dd>\\n<dt>Max Temp</dt><dd>67.05 °F</dd>\\n</dl>\\n', '\\n<dl>\\n<dt>Hotel Name</dt><dd>Sheraton Kauai Coconut Beach Resort</dd>\\n<dt>City</dt><dd>kapaa</dd>\\n<dt>Current Description</dt><dd>scattered clouds</dd>\\n<dt>Country</dt><dd>US</dd>\\n<dt>Max Temp</dt><dd>78.78 °F</dd>\\n</dl>\\n', '\\n<dl>\\n<dt>Hotel Name</dt><dd>Axim Beach Resort And Spa</dd>\\n<dt>City</dt><dd>axim</dd>\\n<dt>Current Description</dt><dd>overcast clouds</dd>\\n<dt>Country</dt><dd>GH</dd>\\n<dt>Max Temp</dt><dd>78.71 °F</dd>\\n</dl>\\n', '\\n<dl>\\n<dt>Hotel Name</dt><dd>Hotel San Isidro Oficial</dd>\\n<dt>City</dt><dd>pisco</dd>\\n<dt>Current Description</dt><dd>clear sky</dd>\\n<dt>Country</dt><dd>PE</dd>\\n<dt>Max Temp</dt><dd>71.65 °F</dd>\\n</dl>\\n', '\\n<dl>\\n<dt>Hotel Name</dt><dd>Hotel do Campo</dd>\\n<dt>City</dt><dd>ponta do sol</dd>\\n<dt>Current Description</dt><dd>overcast clouds</dd>\\n<dt>Country</dt><dd>PT</dd>\\n<dt>Max Temp</dt><dd>66.7 °F</dd>\\n</dl>\\n', '\\n<dl>\\n<dt>Hotel Name</dt><dd>Hotel Náutico de Paita</dd>\\n<dt>City</dt><dd>paita</dd>\\n<dt>Current Description</dt><dd>broken clouds</dd>\\n<dt>Country</dt><dd>PE</dd>\\n<dt>Max Temp</dt><dd>73.74 °F</dd>\\n</dl>\\n', '\\n<dl>\\n<dt>Hotel Name</dt><dd>Hotel RIKMAN Continental</dd>\\n<dt>City</dt><dd>tura</dd>\\n<dt>Current Description</dt><dd>clear sky</dd>\\n<dt>Country</dt><dd>IN</dd>\\n<dt>Max Temp</dt><dd>74.16 °F</dd>\\n</dl>\\n', '\\n<dl>\\n<dt>Hotel Name</dt><dd>Desert Gardens Hotel - Ayers Rock Resort</dd>\\n<dt>City</dt><dd>yulara</dd>\\n<dt>Current Description</dt><dd>overcast clouds</dd>\\n<dt>Country</dt><dd>AU</dd>\\n<dt>Max Temp</dt><dd>75.04 °F</dd>\\n</dl>\\n', '\\n<dl>\\n<dt>Hotel Name</dt><dd>Chambres d\\'hôte \"La Trinité\"</dd>\\n<dt>City</dt><dd>saint-philippe</dd>\\n<dt>Current Description</dt><dd>scattered clouds</dd>\\n<dt>Country</dt><dd>RE</dd>\\n<dt>Max Temp</dt><dd>74.79 °F</dd>\\n</dl>\\n', '\\n<dl>\\n<dt>Hotel Name</dt><dd>The Esplanade Hotel</dd>\\n<dt>City</dt><dd>port hedland</dd>\\n<dt>Current Description</dt><dd>broken clouds</dd>\\n<dt>Country</dt><dd>AU</dd>\\n<dt>Max Temp</dt><dd>71.65 °F</dd>\\n</dl>\\n', '\\n<dl>\\n<dt>Hotel Name</dt><dd>Hotel Castelo</dd>\\n<dt>City</dt><dd>cidreira</dd>\\n<dt>Current Description</dt><dd>light rain</dd>\\n<dt>Country</dt><dd>BR</dd>\\n<dt>Max Temp</dt><dd>66.42 °F</dd>\\n</dl>\\n', '\\n<dl>\\n<dt>Hotel Name</dt><dd>The Halyards Hotel</dd>\\n<dt>City</dt><dd>port alfred</dd>\\n<dt>Current Description</dt><dd>clear sky</dd>\\n<dt>Country</dt><dd>ZA</dd>\\n<dt>Max Temp</dt><dd>66.31 °F</dd>\\n</dl>\\n', '\\n<dl>\\n<dt>Hotel Name</dt><dd>Holiday Inn Express & Suites Elk Grove Central - Hwy 99, an IHG Hotel</dd>\\n<dt>City</dt><dd>laguna</dd>\\n<dt>Current Description</dt><dd>clear sky</dd>\\n<dt>Country</dt><dd>US</dd>\\n<dt>Max Temp</dt><dd>69.3 °F</dd>\\n</dl>\\n', '\\n<dl>\\n<dt>Hotel Name</dt><dd>Hotel Londres</dd>\\n<dt>City</dt><dd>illapel</dd>\\n<dt>Current Description</dt><dd>clear sky</dd>\\n<dt>Country</dt><dd>CL</dd>\\n<dt>Max Temp</dt><dd>75.78 °F</dd>\\n</dl>\\n', '\\n<dl>\\n<dt>Hotel Name</dt><dd>Villa Enata</dd>\\n<dt>City</dt><dd>atuona</dd>\\n<dt>Current Description</dt><dd>light rain</dd>\\n<dt>Country</dt><dd>PF</dd>\\n<dt>Max Temp</dt><dd>78.51 °F</dd>\\n</dl>\\n', \"\\n<dl>\\n<dt>Hotel Name</dt><dd>Ha'apai Beach Resort</dd>\\n<dt>City</dt><dd>pangai</dd>\\n<dt>Current Description</dt><dd>overcast clouds</dd>\\n<dt>Country</dt><dd>TO</dd>\\n<dt>Max Temp</dt><dd>79.38 °F</dd>\\n</dl>\\n\", '\\n<dl>\\n<dt>Hotel Name</dt><dd>ABENIE Hotel</dd>\\n<dt>City</dt><dd>ouesso</dd>\\n<dt>Current Description</dt><dd>light rain</dd>\\n<dt>Country</dt><dd>CG</dd>\\n<dt>Max Temp</dt><dd>71.2 °F</dd>\\n</dl>\\n', '\\n<dl>\\n<dt>Hotel Name</dt><dd>Six Acres Bed & Breakfast</dd>\\n<dt>City</dt><dd>hamilton</dd>\\n<dt>Current Description</dt><dd>overcast clouds</dd>\\n<dt>Country</dt><dd>US</dd>\\n<dt>Max Temp</dt><dd>64.24 °F</dd>\\n</dl>\\n', '\\n<dl>\\n<dt>Hotel Name</dt><dd>Pousada Monte Carmelo O Pão</dd>\\n<dt>City</dt><dd>belmonte</dd>\\n<dt>Current Description</dt><dd>clear sky</dd>\\n<dt>Country</dt><dd>BR</dd>\\n<dt>Max Temp</dt><dd>76.95 °F</dd>\\n</dl>\\n', '\\n<dl>\\n<dt>Hotel Name</dt><dd>Pousada e Restaurante do Sossego</dd>\\n<dt>City</dt><dd>brejo da madre de deus</dd>\\n<dt>Current Description</dt><dd>overcast clouds</dd>\\n<dt>Country</dt><dd>BR</dd>\\n<dt>Max Temp</dt><dd>75.74 °F</dd>\\n</dl>\\n', '\\n<dl>\\n<dt>Hotel Name</dt><dd>Panorama Hotel</dd>\\n<dt>City</dt><dd>alanya</dd>\\n<dt>Current Description</dt><dd>clear sky</dd>\\n<dt>Country</dt><dd>TR</dd>\\n<dt>Max Temp</dt><dd>69.55 °F</dd>\\n</dl>\\n', '\\n<dl>\\n<dt>Hotel Name</dt><dd>Hotel Xaguate</dd>\\n<dt>City</dt><dd>sao filipe</dd>\\n<dt>Current Description</dt><dd>clear sky</dd>\\n<dt>Country</dt><dd>CV</dd>\\n<dt>Max Temp</dt><dd>72.28 °F</dd>\\n</dl>\\n', '\\n<dl>\\n<dt>Hotel Name</dt><dd>InterContinental Riyadh, an IHG Hotel</dd>\\n<dt>City</dt><dd>riyadh</dd>\\n<dt>Current Description</dt><dd>overcast clouds</dd>\\n<dt>Country</dt><dd>SA</dd>\\n<dt>Max Temp</dt><dd>74.93 °F</dd>\\n</dl>\\n', '\\n<dl>\\n<dt>Hotel Name</dt><dd>\"Plantation Bed and Breakfast</dd>\\n<dt>City</dt><dd>saint-joseph</dd>\\n<dt>Current Description</dt><dd>few clouds</dd>\\n<dt>Country</dt><dd>RE</dd>\\n<dt>Max Temp</dt><dd>73.78 °F</dd>\\n</dl>\\n', '\\n<dl>\\n<dt>Hotel Name</dt><dd>Hotel Dawei</dd>\\n<dt>City</dt><dd>dawei</dd>\\n<dt>Current Description</dt><dd>moderate rain</dd>\\n<dt>Country</dt><dd>MM</dd>\\n<dt>Max Temp</dt><dd>78.69 °F</dd>\\n</dl>\\n', '\\n<dl>\\n<dt>Hotel Name</dt><dd>Pousada Porto De Canoas</dd>\\n<dt>City</dt><dd>sao joao da barra</dd>\\n<dt>Current Description</dt><dd>few clouds</dd>\\n<dt>Country</dt><dd>BR</dd>\\n<dt>Max Temp</dt><dd>78.08 °F</dd>\\n</dl>\\n', '\\n<dl>\\n<dt>Hotel Name</dt><dd>The Westin San Jose</dd>\\n<dt>City</dt><dd>san jose</dd>\\n<dt>Current Description</dt><dd>broken clouds</dd>\\n<dt>Country</dt><dd>US</dd>\\n<dt>Max Temp</dt><dd>66.0 °F</dd>\\n</dl>\\n', '\\n<dl>\\n<dt>Hotel Name</dt><dd>Holiday Inn Express Lompoc, an IHG Hotel</dd>\\n<dt>City</dt><dd>lompoc</dd>\\n<dt>Current Description</dt><dd>clear sky</dd>\\n<dt>Country</dt><dd>US</dd>\\n<dt>Max Temp</dt><dd>72.79 °F</dd>\\n</dl>\\n', '\\n<dl>\\n<dt>Hotel Name</dt><dd>Hotel Kou-Bugny</dd>\\n<dt>City</dt><dd>vao</dd>\\n<dt>Current Description</dt><dd>overcast clouds</dd>\\n<dt>Country</dt><dd>NC</dd>\\n<dt>Max Temp</dt><dd>71.91 °F</dd>\\n</dl>\\n', '\\n<dl>\\n<dt>Hotel Name</dt><dd>ZINGARA 76ft Catamaran, full crew-all included</dd>\\n<dt>City</dt><dd>road town</dd>\\n<dt>Current Description</dt><dd>broken clouds</dd>\\n<dt>Country</dt><dd>VG</dd>\\n<dt>Max Temp</dt><dd>76.82 °F</dd>\\n</dl>\\n', '\\n<dl>\\n<dt>Hotel Name</dt><dd>Ecoporan Hotel Charme Spa & Eventos</dd>\\n<dt>City</dt><dd>itacare</dd>\\n<dt>Current Description</dt><dd>clear sky</dd>\\n<dt>Country</dt><dd>BR</dd>\\n<dt>Max Temp</dt><dd>78.15 °F</dd>\\n</dl>\\n', '\\n<dl>\\n<dt>Hotel Name</dt><dd>Gostinitsa \"Gostevoy Dvor\"</dd>\\n<dt>City</dt><dd>kaspiyskiy</dd>\\n<dt>Current Description</dt><dd>scattered clouds</dd>\\n<dt>Country</dt><dd>RU</dd>\\n<dt>Max Temp</dt><dd>64.11 °F</dd>\\n</dl>\\n', '\\n<dl>\\n<dt>Hotel Name</dt><dd>Niyat Urban Hotel</dd>\\n<dt>City</dt><dd>resistencia</dd>\\n<dt>Current Description</dt><dd>overcast clouds</dd>\\n<dt>Country</dt><dd>AR</dd>\\n<dt>Max Temp</dt><dd>72.09 °F</dd>\\n</dl>\\n', '\\n<dl>\\n<dt>Hotel Name</dt><dd>Tu Casa</dd>\\n<dt>City</dt><dd>east london</dd>\\n<dt>Current Description</dt><dd>clear sky</dd>\\n<dt>Country</dt><dd>ZA</dd>\\n<dt>Max Temp</dt><dd>66.24 °F</dd>\\n</dl>\\n', '\\n<dl>\\n<dt>Hotel Name</dt><dd>Salinas do Maragogi All Inclusive Resort</dd>\\n<dt>City</dt><dd>maragogi</dd>\\n<dt>Current Description</dt><dd>overcast clouds</dd>\\n<dt>Country</dt><dd>BR</dd>\\n<dt>Max Temp</dt><dd>78.82 °F</dd>\\n</dl>\\n', '\\n<dl>\\n<dt>Hotel Name</dt><dd>Casa Tia Villa</dd>\\n<dt>City</dt><dd>bambous virieux</dd>\\n<dt>Current Description</dt><dd>clear sky</dd>\\n<dt>Country</dt><dd>MU</dd>\\n<dt>Max Temp</dt><dd>74.21 °F</dd>\\n</dl>\\n', '\\n<dl>\\n<dt>Hotel Name</dt><dd>Kunzang Zhing Resort</dd>\\n<dt>City</dt><dd>punakha</dd>\\n<dt>Current Description</dt><dd>overcast clouds</dd>\\n<dt>Country</dt><dd>BT</dd>\\n<dt>Max Temp</dt><dd>65.41 °F</dd>\\n</dl>\\n', '\\n<dl>\\n<dt>Hotel Name</dt><dd>Shandrani Beachcomber Resort & Spa</dd>\\n<dt>City</dt><dd>mahebourg</dd>\\n<dt>Current Description</dt><dd>few clouds</dd>\\n<dt>Country</dt><dd>MU</dd>\\n<dt>Max Temp</dt><dd>74.25 °F</dd>\\n</dl>\\n', '\\n<dl>\\n<dt>Hotel Name</dt><dd>Ephira Hotel</dd>\\n<dt>City</dt><dd>corinth</dd>\\n<dt>Current Description</dt><dd>few clouds</dd>\\n<dt>Country</dt><dd>GR</dd>\\n<dt>Max Temp</dt><dd>66.88 °F</dd>\\n</dl>\\n', '\\n<dl>\\n<dt>Hotel Name</dt><dd>Shervinton Executive Boutique Hotel</dd>\\n<dt>City</dt><dd>tawau</dd>\\n<dt>Current Description</dt><dd>overcast clouds</dd>\\n<dt>Country</dt><dd>MY</dd>\\n<dt>Max Temp</dt><dd>78.06 °F</dd>\\n</dl>\\n', '\\n<dl>\\n<dt>Hotel Name</dt><dd>Tanna Lodge</dd>\\n<dt>City</dt><dd>isangel</dd>\\n<dt>Current Description</dt><dd>moderate rain</dd>\\n<dt>Country</dt><dd>VU</dd>\\n<dt>Max Temp</dt><dd>77.95 °F</dd>\\n</dl>\\n', '\\n<dl>\\n<dt>Hotel Name</dt><dd>The Ritz-Carlton, Half Moon Bay</dd>\\n<dt>City</dt><dd>half moon bay</dd>\\n<dt>Current Description</dt><dd>clear sky</dd>\\n<dt>Country</dt><dd>US</dd>\\n<dt>Max Temp</dt><dd>66.06 °F</dd>\\n</dl>\\n', '\\n<dl>\\n<dt>Hotel Name</dt><dd>Lahaina Shores Beach Resort</dd>\\n<dt>City</dt><dd>lahaina</dd>\\n<dt>Current Description</dt><dd>scattered clouds</dd>\\n<dt>Country</dt><dd>US</dd>\\n<dt>Max Temp</dt><dd>79.84 °F</dd>\\n</dl>\\n', '\\n<dl>\\n<dt>Hotel Name</dt><dd>Guest House HESADA</dd>\\n<dt>City</dt><dd>angoche</dd>\\n<dt>Current Description</dt><dd>few clouds</dd>\\n<dt>Country</dt><dd>MZ</dd>\\n<dt>Max Temp</dt><dd>74.75 °F</dd>\\n</dl>\\n', '\\n<dl>\\n<dt>Hotel Name</dt><dd>CHACARA BAILLY</dd>\\n<dt>City</dt><dd>castro</dd>\\n<dt>Current Description</dt><dd>overcast clouds</dd>\\n<dt>Country</dt><dd>BR</dd>\\n<dt>Max Temp</dt><dd>68.77 °F</dd>\\n</dl>\\n', '\\n<dl>\\n<dt>Hotel Name</dt><dd>nan</dd>\\n<dt>City</dt><dd>poya</dd>\\n<dt>Current Description</dt><dd>overcast clouds</dd>\\n<dt>Country</dt><dd>NC</dd>\\n<dt>Max Temp</dt><dd>69.01 °F</dd>\\n</dl>\\n', '\\n<dl>\\n<dt>Hotel Name</dt><dd>Duna Ecolodge</dd>\\n<dt>City</dt><dd>shahr-e babak</dd>\\n<dt>Current Description</dt><dd>broken clouds</dd>\\n<dt>Country</dt><dd>IR</dd>\\n<dt>Max Temp</dt><dd>65.43 °F</dd>\\n</dl>\\n', '\\n<dl>\\n<dt>Hotel Name</dt><dd>Hotel Kununurra</dd>\\n<dt>City</dt><dd>kununurra</dd>\\n<dt>Current Description</dt><dd>overcast clouds</dd>\\n<dt>Country</dt><dd>AU</dd>\\n<dt>Max Temp</dt><dd>75.18 °F</dd>\\n</dl>\\n', '\\n<dl>\\n<dt>Hotel Name</dt><dd>Butterfly Beach Hotel</dd>\\n<dt>City</dt><dd>oistins</dd>\\n<dt>Current Description</dt><dd>overcast clouds</dd>\\n<dt>Country</dt><dd>BB</dd>\\n<dt>Max Temp</dt><dd>79.77 °F</dd>\\n</dl>\\n', '\\n<dl>\\n<dt>Hotel Name</dt><dd>Laurel Inn & Conference Center</dd>\\n<dt>City</dt><dd>salinas</dd>\\n<dt>Current Description</dt><dd>broken clouds</dd>\\n<dt>Country</dt><dd>US</dd>\\n<dt>Max Temp</dt><dd>65.98 °F</dd>\\n</dl>\\n', '\\n<dl>\\n<dt>Hotel Name</dt><dd>Hôtel & Restaurant DIANA Ambilobe</dd>\\n<dt>City</dt><dd>ambilobe</dd>\\n<dt>Current Description</dt><dd>scattered clouds</dd>\\n<dt>Country</dt><dd>MG</dd>\\n<dt>Max Temp</dt><dd>72.93 °F</dd>\\n</dl>\\n', '\\n<dl>\\n<dt>Hotel Name</dt><dd>Rooms Eleni</dd>\\n<dt>City</dt><dd>kamarion</dd>\\n<dt>Current Description</dt><dd>clear sky</dd>\\n<dt>Country</dt><dd>GR</dd>\\n<dt>Max Temp</dt><dd>64.74 °F</dd>\\n</dl>\\n', '\\n<dl>\\n<dt>Hotel Name</dt><dd>Lidera</dd>\\n<dt>City</dt><dd>carutapera</dd>\\n<dt>Current Description</dt><dd>overcast clouds</dd>\\n<dt>Country</dt><dd>BR</dd>\\n<dt>Max Temp</dt><dd>78.46 °F</dd>\\n</dl>\\n', '\\n<dl>\\n<dt>Hotel Name</dt><dd>Kirari Guest House</dd>\\n<dt>City</dt><dd>gushikawa</dd>\\n<dt>Current Description</dt><dd>scattered clouds</dd>\\n<dt>Country</dt><dd>JP</dd>\\n<dt>Max Temp</dt><dd>78.39 °F</dd>\\n</dl>\\n', '\\n<dl>\\n<dt>Hotel Name</dt><dd>Nancy Montanes Bernardo</dd>\\n<dt>City</dt><dd>dicabisagan</dd>\\n<dt>Current Description</dt><dd>scattered clouds</dd>\\n<dt>Country</dt><dd>PH</dd>\\n<dt>Max Temp</dt><dd>78.58 °F</dd>\\n</dl>\\n', '\\n<dl>\\n<dt>Hotel Name</dt><dd>nan</dd>\\n<dt>City</dt><dd>abapo</dd>\\n<dt>Current Description</dt><dd>broken clouds</dd>\\n<dt>Country</dt><dd>BO</dd>\\n<dt>Max Temp</dt><dd>78.8 °F</dd>\\n</dl>\\n', '\\n<dl>\\n<dt>Hotel Name</dt><dd>Melrose</dd>\\n<dt>City</dt><dd>sambava</dd>\\n<dt>Current Description</dt><dd>few clouds</dd>\\n<dt>Country</dt><dd>MG</dd>\\n<dt>Max Temp</dt><dd>76.19 °F</dd>\\n</dl>\\n', '\\n<dl>\\n<dt>Hotel Name</dt><dd>Hotel Kamana</dd>\\n<dt>City</dt><dd>lima</dd>\\n<dt>Current Description</dt><dd>broken clouds</dd>\\n<dt>Country</dt><dd>PE</dd>\\n<dt>Max Temp</dt><dd>70.0 °F</dd>\\n</dl>\\n', '\\n<dl>\\n<dt>Hotel Name</dt><dd>Kost Pria</dd>\\n<dt>City</dt><dd>meulaboh</dd>\\n<dt>Current Description</dt><dd>broken clouds</dd>\\n<dt>Country</dt><dd>ID</dd>\\n<dt>Max Temp</dt><dd>77.41 °F</dd>\\n</dl>\\n', \"\\n<dl>\\n<dt>Hotel Name</dt><dd>Corper's Lodge Obonoma</dd>\\n<dt>City</dt><dd>abonnema</dd>\\n<dt>Current Description</dt><dd>overcast clouds</dd>\\n<dt>Country</dt><dd>NG</dd>\\n<dt>Max Temp</dt><dd>79.29 °F</dd>\\n</dl>\\n\", '\\n<dl>\\n<dt>Hotel Name</dt><dd>Ephira Hotel</dd>\\n<dt>City</dt><dd>corinto</dd>\\n<dt>Current Description</dt><dd>few clouds</dd>\\n<dt>Country</dt><dd>GR</dd>\\n<dt>Max Temp</dt><dd>66.88 °F</dd>\\n</dl>\\n', '\\n<dl>\\n<dt>Hotel Name</dt><dd>Ramada Hotel & Suites by Wyndham Ballina Byron</dd>\\n<dt>City</dt><dd>ballina</dd>\\n<dt>Current Description</dt><dd>overcast clouds</dd>\\n<dt>Country</dt><dd>AU</dd>\\n<dt>Max Temp</dt><dd>67.01 °F</dd>\\n</dl>\\n', '\\n<dl>\\n<dt>Hotel Name</dt><dd>Kamaneahn Hotel Inc</dd>\\n<dt>City</dt><dd>buchanan</dd>\\n<dt>Current Description</dt><dd>moderate rain</dd>\\n<dt>Country</dt><dd>LR</dd>\\n<dt>Max Temp</dt><dd>79.77 °F</dd>\\n</dl>\\n', '\\n<dl>\\n<dt>Hotel Name</dt><dd>Hotel Chik Chik Namibe</dd>\\n<dt>City</dt><dd>namibe</dd>\\n<dt>Current Description</dt><dd>scattered clouds</dd>\\n<dt>Country</dt><dd>AO</dd>\\n<dt>Max Temp</dt><dd>72.88 °F</dd>\\n</dl>\\n', '\\n<dl>\\n<dt>Hotel Name</dt><dd>Hampton Inn Forrest City</dd>\\n<dt>City</dt><dd>forrest city</dd>\\n<dt>Current Description</dt><dd>broken clouds</dd>\\n<dt>Country</dt><dd>US</dd>\\n<dt>Max Temp</dt><dd>75.09 °F</dd>\\n</dl>\\n', '\\n<dl>\\n<dt>Hotel Name</dt><dd>Hotel San Juan</dd>\\n<dt>City</dt><dd>coquimbo</dd>\\n<dt>Current Description</dt><dd>clear sky</dd>\\n<dt>Country</dt><dd>CL</dd>\\n<dt>Max Temp</dt><dd>65.32 °F</dd>\\n</dl>\\n', '\\n<dl>\\n<dt>Hotel Name</dt><dd>unidiversidad organica la utopia</dd>\\n<dt>City</dt><dd>miranda</dd>\\n<dt>Current Description</dt><dd>scattered clouds</dd>\\n<dt>Country</dt><dd>CO</dd>\\n<dt>Max Temp</dt><dd>69.93 °F</dd>\\n</dl>\\n', '\\n<dl>\\n<dt>Hotel Name</dt><dd>Pirineos</dd>\\n<dt>City</dt><dd>san cristobal</dd>\\n<dt>Current Description</dt><dd>broken clouds</dd>\\n<dt>Country</dt><dd>VE</dd>\\n<dt>Max Temp</dt><dd>77.18 °F</dd>\\n</dl>\\n', '\\n<dl>\\n<dt>Hotel Name</dt><dd>Sunrise Attitude Hotel</dd>\\n<dt>City</dt><dd>quatre cocos</dd>\\n<dt>Current Description</dt><dd>clear sky</dd>\\n<dt>Country</dt><dd>MU</dd>\\n<dt>Max Temp</dt><dd>74.08 °F</dd>\\n</dl>\\n', '\\n<dl>\\n<dt>Hotel Name</dt><dd>Langsuan Resort</dd>\\n<dt>City</dt><dd>lang suan</dd>\\n<dt>Current Description</dt><dd>scattered clouds</dd>\\n<dt>Country</dt><dd>TH</dd>\\n<dt>Max Temp</dt><dd>79.03 °F</dd>\\n</dl>\\n', '\\n<dl>\\n<dt>Hotel Name</dt><dd>nan</dd>\\n<dt>City</dt><dd>nokaneng</dd>\\n<dt>Current Description</dt><dd>clear sky</dd>\\n<dt>Country</dt><dd>BW</dd>\\n<dt>Max Temp</dt><dd>68.02 °F</dd>\\n</dl>\\n', '\\n<dl>\\n<dt>Hotel Name</dt><dd>HOTEL BISO NA BISO</dd>\\n<dt>City</dt><dd>buta</dd>\\n<dt>Current Description</dt><dd>overcast clouds</dd>\\n<dt>Country</dt><dd>CD</dd>\\n<dt>Max Temp</dt><dd>72.23 °F</dd>\\n</dl>\\n', '\\n<dl>\\n<dt>Hotel Name</dt><dd>National 9 - Price River Inn</dd>\\n<dt>City</dt><dd>price</dd>\\n<dt>Current Description</dt><dd>few clouds</dd>\\n<dt>Country</dt><dd>US</dd>\\n<dt>Max Temp</dt><dd>70.12 °F</dd>\\n</dl>\\n', '\\n<dl>\\n<dt>Hotel Name</dt><dd>Hotel Gaudi</dd>\\n<dt>City</dt><dd>mindelo</dd>\\n<dt>Current Description</dt><dd>clear sky</dd>\\n<dt>Country</dt><dd>CV</dd>\\n<dt>Max Temp</dt><dd>70.59 °F</dd>\\n</dl>\\n', '\\n<dl>\\n<dt>Hotel Name</dt><dd>Seascape Beach Resort</dd>\\n<dt>City</dt><dd>aptos</dd>\\n<dt>Current Description</dt><dd>broken clouds</dd>\\n<dt>Country</dt><dd>US</dd>\\n<dt>Max Temp</dt><dd>66.31 °F</dd>\\n</dl>\\n', '\\n<dl>\\n<dt>Hotel Name</dt><dd>Castle Motor Lodge Motel</dd>\\n<dt>City</dt><dd>bowen</dd>\\n<dt>Current Description</dt><dd>broken clouds</dd>\\n<dt>Country</dt><dd>AU</dd>\\n<dt>Max Temp</dt><dd>72.28 °F</dd>\\n</dl>\\n', '\\n<dl>\\n<dt>Hotel Name</dt><dd>La Candelaria</dd>\\n<dt>City</dt><dd>villazon</dd>\\n<dt>Current Description</dt><dd>broken clouds</dd>\\n<dt>Country</dt><dd>BO</dd>\\n<dt>Max Temp</dt><dd>65.52 °F</dd>\\n</dl>\\n', '\\n<dl>\\n<dt>Hotel Name</dt><dd>Hotel Full Business</dd>\\n<dt>City</dt><dd>mbanza-ngungu</dd>\\n<dt>Current Description</dt><dd>moderate rain</dd>\\n<dt>Country</dt><dd>CD</dd>\\n<dt>Max Temp</dt><dd>68.74 °F</dd>\\n</dl>\\n', '\\n<dl>\\n<dt>Hotel Name</dt><dd>ibis Styles Mt Isa Verona</dd>\\n<dt>City</dt><dd>mount isa</dd>\\n<dt>Current Description</dt><dd>scattered clouds</dd>\\n<dt>Country</dt><dd>AU</dd>\\n<dt>Max Temp</dt><dd>74.97 °F</dd>\\n</dl>\\n', \"\\n<dl>\\n<dt>Hotel Name</dt><dd>Cattleman's Rest Motor Inn</dd>\\n<dt>City</dt><dd>charters towers</dd>\\n<dt>Current Description</dt><dd>few clouds</dd>\\n<dt>Country</dt><dd>AU</dd>\\n<dt>Max Temp</dt><dd>66.81 °F</dd>\\n</dl>\\n\", '\\n<dl>\\n<dt>Hotel Name</dt><dd>Le gîte du Koniambo</dd>\\n<dt>City</dt><dd>voh</dd>\\n<dt>Current Description</dt><dd>overcast clouds</dd>\\n<dt>Country</dt><dd>NC</dd>\\n<dt>Max Temp</dt><dd>69.62 °F</dd>\\n</dl>\\n', '\\n<dl>\\n<dt>Hotel Name</dt><dd>Codrington Gardens Bed And Breakfast</dd>\\n<dt>City</dt><dd>codrington</dd>\\n<dt>Current Description</dt><dd>broken clouds</dd>\\n<dt>Country</dt><dd>AU</dd>\\n<dt>Max Temp</dt><dd>64.8 °F</dd>\\n</dl>\\n', '\\n<dl>\\n<dt>Hotel Name</dt><dd>Hotel Villa Kitzia Huacho</dd>\\n<dt>City</dt><dd>hualmay</dd>\\n<dt>Current Description</dt><dd>broken clouds</dd>\\n<dt>Country</dt><dd>PE</dd>\\n<dt>Max Temp</dt><dd>70.39 °F</dd>\\n</dl>\\n', '\\n<dl>\\n<dt>Hotel Name</dt><dd>Hotel Santika Mataram</dd>\\n<dt>City</dt><dd>mataram</dd>\\n<dt>Current Description</dt><dd>overcast clouds</dd>\\n<dt>Country</dt><dd>ID</dd>\\n<dt>Max Temp</dt><dd>77.81 °F</dd>\\n</dl>\\n', '\\n<dl>\\n<dt>Hotel Name</dt><dd>Paradise Hotel</dd>\\n<dt>City</dt><dd>wanning</dd>\\n<dt>Current Description</dt><dd>overcast clouds</dd>\\n<dt>Country</dt><dd>CN</dd>\\n<dt>Max Temp</dt><dd>78.73 °F</dd>\\n</dl>\\n', '\\n<dl>\\n<dt>Hotel Name</dt><dd>hotel luna del desierto</dd>\\n<dt>City</dt><dd>diego de almagro</dd>\\n<dt>Current Description</dt><dd>clear sky</dd>\\n<dt>Country</dt><dd>CL</dd>\\n<dt>Max Temp</dt><dd>79.02 °F</dd>\\n</dl>\\n', '\\n<dl>\\n<dt>Hotel Name</dt><dd>Two Moons Hotel</dd>\\n<dt>City</dt><dd>kampot</dd>\\n<dt>Current Description</dt><dd>overcast clouds</dd>\\n<dt>Country</dt><dd>KH</dd>\\n<dt>Max Temp</dt><dd>75.25 °F</dd>\\n</dl>\\n', '\\n<dl>\\n<dt>Hotel Name</dt><dd>nan</dd>\\n<dt>City</dt><dd>poum</dd>\\n<dt>Current Description</dt><dd>overcast clouds</dd>\\n<dt>Country</dt><dd>NC</dd>\\n<dt>Max Temp</dt><dd>74.7 °F</dd>\\n</dl>\\n', '\\n<dl>\\n<dt>Hotel Name</dt><dd>Hotel Mpampa</dd>\\n<dt>City</dt><dd>soyo</dd>\\n<dt>Current Description</dt><dd>overcast clouds</dd>\\n<dt>Country</dt><dd>AO</dd>\\n<dt>Max Temp</dt><dd>77.88 °F</dd>\\n</dl>\\n', '\\n<dl>\\n<dt>Hotel Name</dt><dd>Lindsey Hôtel</dd>\\n<dt>City</dt><dd>saint-pierre</dd>\\n<dt>Current Description</dt><dd>clear sky</dd>\\n<dt>Country</dt><dd>RE</dd>\\n<dt>Max Temp</dt><dd>74.91 °F</dd>\\n</dl>\\n', '\\n<dl>\\n<dt>Hotel Name</dt><dd>Grand Kecubung Hotel</dd>\\n<dt>City</dt><dd>pangkalanbuun</dd>\\n<dt>Current Description</dt><dd>overcast clouds</dd>\\n<dt>Country</dt><dd>ID</dd>\\n<dt>Max Temp</dt><dd>74.86 °F</dd>\\n</dl>\\n', '\\n<dl>\\n<dt>Hotel Name</dt><dd>Xee Wang Guesthouse</dd>\\n<dt>City</dt><dd>xam nua</dd>\\n<dt>Current Description</dt><dd>scattered clouds</dd>\\n<dt>Country</dt><dd>LA</dd>\\n<dt>Max Temp</dt><dd>69.6 °F</dd>\\n</dl>\\n', '\\n<dl>\\n<dt>Hotel Name</dt><dd>Shanti Maurice Resort & Spa</dd>\\n<dt>City</dt><dd>souillac</dd>\\n<dt>Current Description</dt><dd>few clouds</dd>\\n<dt>Country</dt><dd>MU</dd>\\n<dt>Max Temp</dt><dd>71.98 °F</dd>\\n</dl>\\n', '\\n<dl>\\n<dt>Hotel Name</dt><dd>بورتو بردية</dd>\\n<dt>City</dt><dd>bardiyah</dd>\\n<dt>Current Description</dt><dd>clear sky</dd>\\n<dt>Country</dt><dd>LY</dd>\\n<dt>Max Temp</dt><dd>65.5 °F</dd>\\n</dl>\\n', '\\n<dl>\\n<dt>Hotel Name</dt><dd>Alcazar Hotel & Spa</dd>\\n<dt>City</dt><dd>monte gordo</dd>\\n<dt>Current Description</dt><dd>scattered clouds</dd>\\n<dt>Country</dt><dd>PT</dd>\\n<dt>Max Temp</dt><dd>66.25 °F</dd>\\n</dl>\\n', '\\n<dl>\\n<dt>Hotel Name</dt><dd>Takalvan Motel</dd>\\n<dt>City</dt><dd>bundaberg</dd>\\n<dt>Current Description</dt><dd>broken clouds</dd>\\n<dt>Country</dt><dd>AU</dd>\\n<dt>Max Temp</dt><dd>65.21 °F</dd>\\n</dl>\\n', '\\n<dl>\\n<dt>Hotel Name</dt><dd>Holiday Inn Express & Suites Tooele, an IHG Hotel</dd>\\n<dt>City</dt><dd>tooele</dd>\\n<dt>Current Description</dt><dd>overcast clouds</dd>\\n<dt>Country</dt><dd>US</dd>\\n<dt>Max Temp</dt><dd>70.68 °F</dd>\\n</dl>\\n', '\\n<dl>\\n<dt>Hotel Name</dt><dd>Baan Tanyong B&B</dd>\\n<dt>City</dt><dd>tumpat</dd>\\n<dt>Current Description</dt><dd>overcast clouds</dd>\\n<dt>Country</dt><dd>MY</dd>\\n<dt>Max Temp</dt><dd>78.33 °F</dd>\\n</dl>\\n', '\\n<dl>\\n<dt>Hotel Name</dt><dd>Salom Hostel</dd>\\n<dt>City</dt><dd>panjakent</dd>\\n<dt>Current Description</dt><dd>overcast clouds</dd>\\n<dt>Country</dt><dd>TJ</dd>\\n<dt>Max Temp</dt><dd>68.94 °F</dd>\\n</dl>\\n', '\\n<dl>\\n<dt>Hotel Name</dt><dd>Kos-Kosan wanita muslim bagoes kabanjahe</dd>\\n<dt>City</dt><dd>kabanjahe</dd>\\n<dt>Current Description</dt><dd>overcast clouds</dd>\\n<dt>Country</dt><dd>ID</dd>\\n<dt>Max Temp</dt><dd>64.06 °F</dd>\\n</dl>\\n', '\\n<dl>\\n<dt>Hotel Name</dt><dd>The Sebel Kiama Harbourside</dd>\\n<dt>City</dt><dd>kiama</dd>\\n<dt>Current Description</dt><dd>clear sky</dd>\\n<dt>Country</dt><dd>AU</dd>\\n<dt>Max Temp</dt><dd>64.99 °F</dd>\\n</dl>\\n', '\\n<dl>\\n<dt>Hotel Name</dt><dd>Swiss Belhotel Manokwari</dd>\\n<dt>City</dt><dd>manokwari</dd>\\n<dt>Current Description</dt><dd>overcast clouds</dd>\\n<dt>Country</dt><dd>ID</dd>\\n<dt>Max Temp</dt><dd>78.03 °F</dd>\\n</dl>\\n', '\\n<dl>\\n<dt>Hotel Name</dt><dd>Coastline Guest House</dd>\\n<dt>City</dt><dd>arawa</dd>\\n<dt>Current Description</dt><dd>overcast clouds</dd>\\n<dt>Country</dt><dd>PG</dd>\\n<dt>Max Temp</dt><dd>76.69 °F</dd>\\n</dl>\\n', '\\n<dl>\\n<dt>Hotel Name</dt><dd>Mövenpick Qassim</dd>\\n<dt>City</dt><dd>buraydah</dd>\\n<dt>Current Description</dt><dd>scattered clouds</dd>\\n<dt>Country</dt><dd>SA</dd>\\n<dt>Max Temp</dt><dd>72.05 °F</dd>\\n</dl>\\n', '\\n<dl>\\n<dt>Hotel Name</dt><dd>Hotel Rocio</dd>\\n<dt>City</dt><dd>cedral</dd>\\n<dt>Current Description</dt><dd>clear sky</dd>\\n<dt>Country</dt><dd>MX</dd>\\n<dt>Max Temp</dt><dd>79.66 °F</dd>\\n</dl>\\n', '\\n<dl>\\n<dt>Hotel Name</dt><dd>Tour Eiffel Hotel Benin</dd>\\n<dt>City</dt><dd>porto novo</dd>\\n<dt>Current Description</dt><dd>broken clouds</dd>\\n<dt>Country</dt><dd>BJ</dd>\\n<dt>Max Temp</dt><dd>79.72 °F</dd>\\n</dl>\\n', '\\n<dl>\\n<dt>Hotel Name</dt><dd>Hotel Beatitude de Grand Lahou</dd>\\n<dt>City</dt><dd>grand-lahou</dd>\\n<dt>Current Description</dt><dd>overcast clouds</dd>\\n<dt>Country</dt><dd>CI</dd>\\n<dt>Max Temp</dt><dd>79.47 °F</dd>\\n</dl>\\n', '\\n<dl>\\n<dt>Hotel Name</dt><dd>Puri Brata</dd>\\n<dt>City</dt><dd>bambanglipuro</dd>\\n<dt>Current Description</dt><dd>broken clouds</dd>\\n<dt>Country</dt><dd>ID</dd>\\n<dt>Max Temp</dt><dd>77.09 °F</dd>\\n</dl>\\n', '\\n<dl>\\n<dt>Hotel Name</dt><dd>Lmd</dd>\\n<dt>City</dt><dd>danane</dd>\\n<dt>Current Description</dt><dd>light rain</dd>\\n<dt>Country</dt><dd>CI</dd>\\n<dt>Max Temp</dt><dd>72.32 °F</dd>\\n</dl>\\n', '\\n<dl>\\n<dt>Hotel Name</dt><dd>OYO 170 Hotel View Point</dd>\\n<dt>City</dt><dd>pokhara</dd>\\n<dt>Current Description</dt><dd>clear sky</dd>\\n<dt>Country</dt><dd>NP</dd>\\n<dt>Max Temp</dt><dd>74.23 °F</dd>\\n</dl>\\n', '\\n<dl>\\n<dt>Hotel Name</dt><dd>Monnon</dd>\\n<dt>City</dt><dd>nikki</dd>\\n<dt>Current Description</dt><dd>light rain</dd>\\n<dt>Country</dt><dd>BJ</dd>\\n<dt>Max Temp</dt><dd>78.35 °F</dd>\\n</dl>\\n', '\\n<dl>\\n<dt>Hotel Name</dt><dd>Niamat parda Center chaman</dd>\\n<dt>City</dt><dd>chaman</dd>\\n<dt>Current Description</dt><dd>scattered clouds</dd>\\n<dt>Country</dt><dd>PK</dd>\\n<dt>Max Temp</dt><dd>75.88 °F</dd>\\n</dl>\\n', '\\n<dl>\\n<dt>Hotel Name</dt><dd>The Espiritu Hotel</dd>\\n<dt>City</dt><dd>luganville</dd>\\n<dt>Current Description</dt><dd>overcast clouds</dd>\\n<dt>Country</dt><dd>VU</dd>\\n<dt>Max Temp</dt><dd>78.96 °F</dd>\\n</dl>\\n', '\\n<dl>\\n<dt>Hotel Name</dt><dd>Casa Laguna, Bed & Breakfast</dd>\\n<dt>City</dt><dd>guerrero negro</dd>\\n<dt>Current Description</dt><dd>clear sky</dd>\\n<dt>Country</dt><dd>MX</dd>\\n<dt>Max Temp</dt><dd>66.45 °F</dd>\\n</dl>\\n', '\\n<dl>\\n<dt>Hotel Name</dt><dd>Spanish Villa</dd>\\n<dt>City</dt><dd>mumford</dd>\\n<dt>Current Description</dt><dd>overcast clouds</dd>\\n<dt>Country</dt><dd>GH</dd>\\n<dt>Max Temp</dt><dd>79.95 °F</dd>\\n</dl>\\n', '\\n<dl>\\n<dt>Hotel Name</dt><dd>Wisma Tri Multi</dd>\\n<dt>City</dt><dd>tanete</dd>\\n<dt>Current Description</dt><dd>overcast clouds</dd>\\n<dt>Country</dt><dd>ID</dd>\\n<dt>Max Temp</dt><dd>75.6 °F</dd>\\n</dl>\\n', '\\n<dl>\\n<dt>Hotel Name</dt><dd>nan</dd>\\n<dt>City</dt><dd>adrar</dd>\\n<dt>Current Description</dt><dd>clear sky</dd>\\n<dt>Country</dt><dd>MR</dd>\\n<dt>Max Temp</dt><dd>79.93 °F</dd>\\n</dl>\\n', '\\n<dl>\\n<dt>Hotel Name</dt><dd>Fair Lodge</dd>\\n<dt>City</dt><dd>urambo</dd>\\n<dt>Current Description</dt><dd>clear sky</dd>\\n<dt>Country</dt><dd>TZ</dd>\\n<dt>Max Temp</dt><dd>64.22 °F</dd>\\n</dl>\\n', '\\n<dl>\\n<dt>Hotel Name</dt><dd>Hotel West</dd>\\n<dt>City</dt><dd>along</dd>\\n<dt>Current Description</dt><dd>broken clouds</dd>\\n<dt>Country</dt><dd>IN</dd>\\n<dt>Max Temp</dt><dd>66.69 °F</dd>\\n</dl>\\n', '\\n<dl>\\n<dt>Hotel Name</dt><dd>Felmar Beach resort</dd>\\n<dt>City</dt><dd>palimbang</dd>\\n<dt>Current Description</dt><dd>overcast clouds</dd>\\n<dt>Country</dt><dd>PH</dd>\\n<dt>Max Temp</dt><dd>78.69 °F</dd>\\n</dl>\\n', '\\n<dl>\\n<dt>Hotel Name</dt><dd>Panorama Motor Inn Hotel</dd>\\n<dt>City</dt><dd>charlestown</dd>\\n<dt>Current Description</dt><dd>scattered clouds</dd>\\n<dt>Country</dt><dd>AU</dd>\\n<dt>Max Temp</dt><dd>64.81 °F</dd>\\n</dl>\\n', '\\n<dl>\\n<dt>Hotel Name</dt><dd>nan</dd>\\n<dt>City</dt><dd>bongandanga</dd>\\n<dt>Current Description</dt><dd>broken clouds</dd>\\n<dt>Country</dt><dd>CD</dd>\\n<dt>Max Temp</dt><dd>70.39 °F</dd>\\n</dl>\\n', '\\n<dl>\\n<dt>Hotel Name</dt><dd>Radisson Grenada Beach Resort</dd>\\n<dt>City</dt><dd>saint-georges</dd>\\n<dt>Current Description</dt><dd>overcast clouds</dd>\\n<dt>Country</dt><dd>GD</dd>\\n<dt>Max Temp</dt><dd>79.75 °F</dd>\\n</dl>\\n', '\\n<dl>\\n<dt>Hotel Name</dt><dd>Media Naranja</dd>\\n<dt>City</dt><dd>naranjal</dd>\\n<dt>Current Description</dt><dd>overcast clouds</dd>\\n<dt>Country</dt><dd>EC</dd>\\n<dt>Max Temp</dt><dd>79.61 °F</dd>\\n</dl>\\n', '\\n<dl>\\n<dt>Hotel Name</dt><dd>El Medina</dd>\\n<dt>City</dt><dd>nouadhibou</dd>\\n<dt>Current Description</dt><dd>clear sky</dd>\\n<dt>Country</dt><dd>MR</dd>\\n<dt>Max Temp</dt><dd>64.98 °F</dd>\\n</dl>\\n', '\\n<dl>\\n<dt>Hotel Name</dt><dd>Casa Dora, Bubaque</dd>\\n<dt>City</dt><dd>bubaque</dd>\\n<dt>Current Description</dt><dd>overcast clouds</dd>\\n<dt>Country</dt><dd>GW</dd>\\n<dt>Max Temp</dt><dd>77.92 °F</dd>\\n</dl>\\n', '\\n<dl>\\n<dt>Hotel Name</dt><dd>Hotel Costa del Sol Cajamarca</dd>\\n<dt>City</dt><dd>cajamarca</dd>\\n<dt>Current Description</dt><dd>broken clouds</dd>\\n<dt>Country</dt><dd>PE</dd>\\n<dt>Max Temp</dt><dd>66.27 °F</dd>\\n</dl>\\n', '\\n<dl>\\n<dt>Hotel Name</dt><dd>Best Western Patriots Point</dd>\\n<dt>City</dt><dd>mount pleasant</dd>\\n<dt>Current Description</dt><dd>clear sky</dd>\\n<dt>Country</dt><dd>US</dd>\\n<dt>Max Temp</dt><dd>78.98 °F</dd>\\n</dl>\\n', '\\n<dl>\\n<dt>Hotel Name</dt><dd>Hotel Ponta Verde Maceió</dd>\\n<dt>City</dt><dd>maceio</dd>\\n<dt>Current Description</dt><dd>broken clouds</dd>\\n<dt>Country</dt><dd>BR</dd>\\n<dt>Max Temp</dt><dd>78.24 °F</dd>\\n</dl>\\n', '\\n<dl>\\n<dt>Hotel Name</dt><dd>Hostal Cartagena</dd>\\n<dt>City</dt><dd>rengo</dd>\\n<dt>Current Description</dt><dd>clear sky</dd>\\n<dt>Country</dt><dd>CL</dd>\\n<dt>Max Temp</dt><dd>64.72 °F</dd>\\n</dl>\\n', '\\n<dl>\\n<dt>Hotel Name</dt><dd>Residencial Karime</dd>\\n<dt>City</dt><dd>taltal</dd>\\n<dt>Current Description</dt><dd>scattered clouds</dd>\\n<dt>Country</dt><dd>CL</dd>\\n<dt>Max Temp</dt><dd>66.61 °F</dd>\\n</dl>\\n', '\\n<dl>\\n<dt>Hotel Name</dt><dd>Heritage Park Hotel</dd>\\n<dt>City</dt><dd>honiara</dd>\\n<dt>Current Description</dt><dd>overcast clouds</dd>\\n<dt>Country</dt><dd>SB</dd>\\n<dt>Max Temp</dt><dd>77.76 °F</dd>\\n</dl>\\n', '\\n<dl>\\n<dt>Hotel Name</dt><dd>Hotel Lido Garda</dd>\\n<dt>City</dt><dd>anzio</dd>\\n<dt>Current Description</dt><dd>clear sky</dd>\\n<dt>Country</dt><dd>IT</dd>\\n<dt>Max Temp</dt><dd>64.15 °F</dd>\\n</dl>\\n', '\\n<dl>\\n<dt>Hotel Name</dt><dd>Laguna Cliffs Marriott Resort & Spa</dd>\\n<dt>City</dt><dd>dana point</dd>\\n<dt>Current Description</dt><dd>few clouds</dd>\\n<dt>Country</dt><dd>US</dd>\\n<dt>Max Temp</dt><dd>71.31 °F</dd>\\n</dl>\\n', '\\n<dl>\\n<dt>Hotel Name</dt><dd>Hostal Oro Negro</dd>\\n<dt>City</dt><dd>talara</dd>\\n<dt>Current Description</dt><dd>clear sky</dd>\\n<dt>Country</dt><dd>PE</dd>\\n<dt>Max Temp</dt><dd>77.76 °F</dd>\\n</dl>\\n', '\\n<dl>\\n<dt>Hotel Name</dt><dd>Residência Ulisses Dos Santos</dd>\\n<dt>City</dt><dd>lucapa</dd>\\n<dt>Current Description</dt><dd>overcast clouds</dd>\\n<dt>Country</dt><dd>AO</dd>\\n<dt>Max Temp</dt><dd>68.05 °F</dd>\\n</dl>\\n', '\\n<dl>\\n<dt>Hotel Name</dt><dd>SEGAYA PROPERTY</dd>\\n<dt>City</dt><dd>dingle</dd>\\n<dt>Current Description</dt><dd>overcast clouds</dd>\\n<dt>Country</dt><dd>PH</dd>\\n<dt>Max Temp</dt><dd>76.59 °F</dd>\\n</dl>\\n', '\\n<dl>\\n<dt>Hotel Name</dt><dd>Lamana Hotel (Port Moresby)</dd>\\n<dt>City</dt><dd>port moresby</dd>\\n<dt>Current Description</dt><dd>broken clouds</dd>\\n<dt>Country</dt><dd>PG</dd>\\n<dt>Max Temp</dt><dd>75.52 °F</dd>\\n</dl>\\n', '\\n<dl>\\n<dt>Hotel Name</dt><dd>nan</dd>\\n<dt>City</dt><dd>gamba</dd>\\n<dt>Current Description</dt><dd>overcast clouds</dd>\\n<dt>Country</dt><dd>GA</dd>\\n<dt>Max Temp</dt><dd>78.26 °F</dd>\\n</dl>\\n', '\\n<dl>\\n<dt>Hotel Name</dt><dd>Hotel Syariah CN Darussalam</dd>\\n<dt>City</dt><dd>sibolga</dd>\\n<dt>Current Description</dt><dd>overcast clouds</dd>\\n<dt>Country</dt><dd>ID</dd>\\n<dt>Max Temp</dt><dd>76.71 °F</dd>\\n</dl>\\n', '\\n<dl>\\n<dt>Hotel Name</dt><dd>Quinta Samay</dd>\\n<dt>City</dt><dd>muisne</dd>\\n<dt>Current Description</dt><dd>overcast clouds</dd>\\n<dt>Country</dt><dd>EC</dd>\\n<dt>Max Temp</dt><dd>78.75 °F</dd>\\n</dl>\\n', '\\n<dl>\\n<dt>Hotel Name</dt><dd>Minshuku Agaihama</dd>\\n<dt>City</dt><dd>nishihara</dd>\\n<dt>Current Description</dt><dd>broken clouds</dd>\\n<dt>Country</dt><dd>JP</dd>\\n<dt>Max Temp</dt><dd>78.46 °F</dd>\\n</dl>\\n', '\\n<dl>\\n<dt>Hotel Name</dt><dd>Nyah Lasem | Museum, Warung & Community Center</dd>\\n<dt>City</dt><dd>lasem</dd>\\n<dt>Current Description</dt><dd>overcast clouds</dd>\\n<dt>Country</dt><dd>ID</dd>\\n<dt>Max Temp</dt><dd>78.3 °F</dd>\\n</dl>\\n', '\\n<dl>\\n<dt>Hotel Name</dt><dd>Hampshire Hotel-Ballito</dd>\\n<dt>City</dt><dd>ballitoville</dd>\\n<dt>Current Description</dt><dd>clear sky</dd>\\n<dt>Country</dt><dd>ZA</dd>\\n<dt>Max Temp</dt><dd>67.24 °F</dd>\\n</dl>\\n', '\\n<dl>\\n<dt>Hotel Name</dt><dd>Ilha Praia Hotel</dd>\\n<dt>City</dt><dd>camocim</dd>\\n<dt>Current Description</dt><dd>broken clouds</dd>\\n<dt>Country</dt><dd>BR</dd>\\n<dt>Max Temp</dt><dd>79.88 °F</dd>\\n</dl>\\n', '\\n<dl>\\n<dt>Hotel Name</dt><dd>Hilton Garden Inn Atlanta/Peachtree City</dd>\\n<dt>City</dt><dd>peachtree city</dd>\\n<dt>Current Description</dt><dd>clear sky</dd>\\n<dt>Country</dt><dd>US</dd>\\n<dt>Max Temp</dt><dd>79.18 °F</dd>\\n</dl>\\n', '\\n<dl>\\n<dt>Hotel Name</dt><dd>Parkir Mobil Wisata CAS Water Park</dd>\\n<dt>City</dt><dd>karaton</dd>\\n<dt>Current Description</dt><dd>overcast clouds</dd>\\n<dt>Country</dt><dd>ID</dd>\\n<dt>Max Temp</dt><dd>75.31 °F</dd>\\n</dl>\\n', '\\n<dl>\\n<dt>Hotel Name</dt><dd>Lindsay Inn</dd>\\n<dt>City</dt><dd>lindsay</dd>\\n<dt>Current Description</dt><dd>clear sky</dd>\\n<dt>Country</dt><dd>US</dd>\\n<dt>Max Temp</dt><dd>71.78 °F</dd>\\n</dl>\\n', '\\n<dl>\\n<dt>Hotel Name</dt><dd>nan</dd>\\n<dt>City</dt><dd>nalut</dd>\\n<dt>Current Description</dt><dd>broken clouds</dd>\\n<dt>Country</dt><dd>LY</dd>\\n<dt>Max Temp</dt><dd>74.05 °F</dd>\\n</dl>\\n', '\\n<dl>\\n<dt>Hotel Name</dt><dd>Royal Crown Hotel</dd>\\n<dt>City</dt><dd>alexandria</dd>\\n<dt>Current Description</dt><dd>clear sky</dd>\\n<dt>Country</dt><dd>EG</dd>\\n<dt>Max Temp</dt><dd>66.45 °F</dd>\\n</dl>\\n', '\\n<dl>\\n<dt>Hotel Name</dt><dd>Holiday Inn Express & Suites North Platte, an IHG Hotel</dd>\\n<dt>City</dt><dd>north platte</dd>\\n<dt>Current Description</dt><dd>overcast clouds</dd>\\n<dt>Country</dt><dd>US</dd>\\n<dt>Max Temp</dt><dd>75.11 °F</dd>\\n</dl>\\n', '\\n<dl>\\n<dt>Hotel Name</dt><dd>Sea Lounge! Bar, Club & Restaurant</dd>\\n<dt>City</dt><dd>itarema</dd>\\n<dt>Current Description</dt><dd>overcast clouds</dd>\\n<dt>Country</dt><dd>BR</dd>\\n<dt>Max Temp</dt><dd>79.66 °F</dd>\\n</dl>\\n', '\\n<dl>\\n<dt>Hotel Name</dt><dd>Oceano</dd>\\n<dt>City</dt><dd>inhambane</dd>\\n<dt>Current Description</dt><dd>light rain</dd>\\n<dt>Country</dt><dd>MZ</dd>\\n<dt>Max Temp</dt><dd>69.35 °F</dd>\\n</dl>\\n', '\\n<dl>\\n<dt>Hotel Name</dt><dd>EPIC SANA Luanda</dd>\\n<dt>City</dt><dd>luanda</dd>\\n<dt>Current Description</dt><dd>broken clouds</dd>\\n<dt>Country</dt><dd>AO</dd>\\n<dt>Max Temp</dt><dd>78.8 °F</dd>\\n</dl>\\n', '\\n<dl>\\n<dt>Hotel Name</dt><dd>Mercure Padang</dd>\\n<dt>City</dt><dd>padang</dd>\\n<dt>Current Description</dt><dd>light rain</dd>\\n<dt>Country</dt><dd>ID</dd>\\n<dt>Max Temp</dt><dd>77.4 °F</dd>\\n</dl>\\n', '\\n<dl>\\n<dt>Hotel Name</dt><dd>nan</dd>\\n<dt>City</dt><dd>micheweni</dd>\\n<dt>Current Description</dt><dd>moderate rain</dd>\\n<dt>Country</dt><dd>TZ</dd>\\n<dt>Max Temp</dt><dd>78.15 °F</dd>\\n</dl>\\n', '\\n<dl>\\n<dt>Hotel Name</dt><dd>Auberge du Routard</dd>\\n<dt>City</dt><dd>oussouye</dd>\\n<dt>Current Description</dt><dd>clear sky</dd>\\n<dt>Country</dt><dd>SN</dd>\\n<dt>Max Temp</dt><dd>76.51 °F</dd>\\n</dl>\\n', '\\n<dl>\\n<dt>Hotel Name</dt><dd>Coral Sands Hotel</dd>\\n<dt>City</dt><dd>dunmore town</dd>\\n<dt>Current Description</dt><dd>clear sky</dd>\\n<dt>Country</dt><dd>BS</dd>\\n<dt>Max Temp</dt><dd>74.77 °F</dd>\\n</dl>\\n', '\\n<dl>\\n<dt>Hotel Name</dt><dd>Osprey Beach Hotel</dd>\\n<dt>City</dt><dd>cockburn town</dd>\\n<dt>Current Description</dt><dd>scattered clouds</dd>\\n<dt>Country</dt><dd>TC</dd>\\n<dt>Max Temp</dt><dd>75.58 °F</dd>\\n</dl>\\n', '\\n<dl>\\n<dt>Hotel Name</dt><dd>Gran Hotel Uruguay</dd>\\n<dt>City</dt><dd>salto</dd>\\n<dt>Current Description</dt><dd>few clouds</dd>\\n<dt>Country</dt><dd>UY</dd>\\n<dt>Max Temp</dt><dd>69.96 °F</dd>\\n</dl>\\n', '\\n<dl>\\n<dt>Hotel Name</dt><dd>El Olivar Hospedaje</dd>\\n<dt>City</dt><dd>barranca</dd>\\n<dt>Current Description</dt><dd>overcast clouds</dd>\\n<dt>Country</dt><dd>PE</dd>\\n<dt>Max Temp</dt><dd>69.69 °F</dd>\\n</dl>\\n', '\\n<dl>\\n<dt>Hotel Name</dt><dd>LES EAUX DE KILISSI</dd>\\n<dt>City</dt><dd>kindia</dd>\\n<dt>Current Description</dt><dd>overcast clouds</dd>\\n<dt>Country</dt><dd>GN</dd>\\n<dt>Max Temp</dt><dd>78.76 °F</dd>\\n</dl>\\n', '\\n<dl>\\n<dt>Hotel Name</dt><dd>OCHA Alindao</dd>\\n<dt>City</dt><dd>alindao</dd>\\n<dt>Current Description</dt><dd>broken clouds</dd>\\n<dt>Country</dt><dd>CF</dd>\\n<dt>Max Temp</dt><dd>73.56 °F</dd>\\n</dl>\\n', '\\n<dl>\\n<dt>Hotel Name</dt><dd>Trinity Plains Tourist Park</dd>\\n<dt>City</dt><dd>mareeba</dd>\\n<dt>Current Description</dt><dd>overcast clouds</dd>\\n<dt>Country</dt><dd>AU</dd>\\n<dt>Max Temp</dt><dd>70.52 °F</dd>\\n</dl>\\n', '\\n<dl>\\n<dt>Hotel Name</dt><dd>Hotel Palace Frederico</dd>\\n<dt>City</dt><dd>frederico westphalen</dd>\\n<dt>Current Description</dt><dd>heavy intensity rain</dd>\\n<dt>Country</dt><dd>BR</dd>\\n<dt>Max Temp</dt><dd>65.44 °F</dd>\\n</dl>\\n', '\\n<dl>\\n<dt>Hotel Name</dt><dd>Lakeshore Lodge</dd>\\n<dt>City</dt><dd>kirando</dd>\\n<dt>Current Description</dt><dd>moderate rain</dd>\\n<dt>Country</dt><dd>TZ</dd>\\n<dt>Max Temp</dt><dd>72.1 °F</dd>\\n</dl>\\n', '\\n<dl>\\n<dt>Hotel Name</dt><dd>AYAN MOTER</dd>\\n<dt>City</dt><dd>kondagaon</dd>\\n<dt>Current Description</dt><dd>few clouds</dd>\\n<dt>Country</dt><dd>IN</dd>\\n<dt>Max Temp</dt><dd>78.96 °F</dd>\\n</dl>\\n', '\\n<dl>\\n<dt>Hotel Name</dt><dd>Squatters Homestead Motel</dd>\\n<dt>City</dt><dd>casino</dd>\\n<dt>Current Description</dt><dd>overcast clouds</dd>\\n<dt>Country</dt><dd>AU</dd>\\n<dt>Max Temp</dt><dd>66.78 °F</dd>\\n</dl>\\n', '\\n<dl>\\n<dt>Hotel Name</dt><dd>K.korabay 28A</dd>\\n<dt>City</dt><dd>zhanaozen</dd>\\n<dt>Current Description</dt><dd>clear sky</dd>\\n<dt>Country</dt><dd>KZ</dd>\\n<dt>Max Temp</dt><dd>72.09 °F</dd>\\n</dl>\\n', '\\n<dl>\\n<dt>Hotel Name</dt><dd>NUR</dd>\\n<dt>City</dt><dd>beyneu</dd>\\n<dt>Current Description</dt><dd>few clouds</dd>\\n<dt>Country</dt><dd>KZ</dd>\\n<dt>Max Temp</dt><dd>68.58 °F</dd>\\n</dl>\\n', '\\n<dl>\\n<dt>Hotel Name</dt><dd>Kost Alfa Flat</dd>\\n<dt>City</dt><dd>atambua</dd>\\n<dt>Current Description</dt><dd>broken clouds</dd>\\n<dt>Country</dt><dd>ID</dd>\\n<dt>Max Temp</dt><dd>70.97 °F</dd>\\n</dl>\\n', '\\n<dl>\\n<dt>Hotel Name</dt><dd>LIKWALE LODGE</dd>\\n<dt>City</dt><dd>mayumba</dd>\\n<dt>Current Description</dt><dd>overcast clouds</dd>\\n<dt>Country</dt><dd>GA</dd>\\n<dt>Max Temp</dt><dd>78.44 °F</dd>\\n</dl>\\n', '\\n<dl>\\n<dt>Hotel Name</dt><dd>Chácara vovó candinha</dd>\\n<dt>City</dt><dd>passo de camaragibe</dd>\\n<dt>Current Description</dt><dd>overcast clouds</dd>\\n<dt>Country</dt><dd>BR</dd>\\n<dt>Max Temp</dt><dd>78.35 °F</dd>\\n</dl>\\n', '\\n<dl>\\n<dt>Hotel Name</dt><dd>Guest House Motel</dd>\\n<dt>City</dt><dd>jasper</dd>\\n<dt>Current Description</dt><dd>broken clouds</dd>\\n<dt>Country</dt><dd>US</dd>\\n<dt>Max Temp</dt><dd>72.1 °F</dd>\\n</dl>\\n', '\\n<dl>\\n<dt>Hotel Name</dt><dd>Pousada dos Navegantes</dd>\\n<dt>City</dt><dd>caravelas</dd>\\n<dt>Current Description</dt><dd>clear sky</dd>\\n<dt>Country</dt><dd>BR</dd>\\n<dt>Max Temp</dt><dd>78.3 °F</dd>\\n</dl>\\n', '\\n<dl>\\n<dt>Hotel Name</dt><dd>Hotel hewa bora</dd>\\n<dt>City</dt><dd>manono</dd>\\n<dt>Current Description</dt><dd>overcast clouds</dd>\\n<dt>Country</dt><dd>CD</dd>\\n<dt>Max Temp</dt><dd>69.57 °F</dd>\\n</dl>\\n', '\\n<dl>\\n<dt>Hotel Name</dt><dd>Hotel Mansión</dd>\\n<dt>City</dt><dd>miraflores</dd>\\n<dt>Current Description</dt><dd>few clouds</dd>\\n<dt>Country</dt><dd>MX</dd>\\n<dt>Max Temp</dt><dd>76.03 °F</dd>\\n</dl>\\n', '\\n<dl>\\n<dt>Hotel Name</dt><dd>Hotel Mentong Palace</dd>\\n<dt>City</dt><dd>ngaoundere</dd>\\n<dt>Current Description</dt><dd>overcast clouds</dd>\\n<dt>Country</dt><dd>CM</dd>\\n<dt>Max Temp</dt><dd>66.34 °F</dd>\\n</dl>\\n', '\\n<dl>\\n<dt>Hotel Name</dt><dd>Solmar Gracious Hotel</dd>\\n<dt>City</dt><dd>lodwar</dd>\\n<dt>Current Description</dt><dd>overcast clouds</dd>\\n<dt>Country</dt><dd>KE</dd>\\n<dt>Max Temp</dt><dd>77.74 °F</dd>\\n</dl>\\n', '\\n<dl>\\n<dt>Hotel Name</dt><dd>Penginapan Citra Alam</dd>\\n<dt>City</dt><dd>sungaipenuh</dd>\\n<dt>Current Description</dt><dd>heavy intensity rain</dd>\\n<dt>Country</dt><dd>ID</dd>\\n<dt>Max Temp</dt><dd>65.98 °F</dd>\\n</dl>\\n', '\\n<dl>\\n<dt>Hotel Name</dt><dd>Gunnedah Motor Inn</dd>\\n<dt>City</dt><dd>gunnedah</dd>\\n<dt>Current Description</dt><dd>overcast clouds</dd>\\n<dt>Country</dt><dd>AU</dd>\\n<dt>Max Temp</dt><dd>64.58 °F</dd>\\n</dl>\\n', '\\n<dl>\\n<dt>Hotel Name</dt><dd>CenDeluxe Hotel Tuy Hoa</dd>\\n<dt>City</dt><dd>tuy hoa</dd>\\n<dt>Current Description</dt><dd>overcast clouds</dd>\\n<dt>Country</dt><dd>VN</dd>\\n<dt>Max Temp</dt><dd>77.36 °F</dd>\\n</dl>\\n', '\\n<dl>\\n<dt>Hotel Name</dt><dd>Guesthouse Nara Komachi</dd>\\n<dt>City</dt><dd>nara</dd>\\n<dt>Current Description</dt><dd>overcast clouds</dd>\\n<dt>Country</dt><dd>JP</dd>\\n<dt>Max Temp</dt><dd>64.49 °F</dd>\\n</dl>\\n', '\\n<dl>\\n<dt>Hotel Name</dt><dd>Ikathouse</dd>\\n<dt>City</dt><dd>komsomolskiy</dd>\\n<dt>Current Description</dt><dd>overcast clouds</dd>\\n<dt>Country</dt><dd>UZ</dd>\\n<dt>Max Temp</dt><dd>65.12 °F</dd>\\n</dl>\\n', '\\n<dl>\\n<dt>Hotel Name</dt><dd>nan</dd>\\n<dt>City</dt><dd>beloha</dd>\\n<dt>Current Description</dt><dd>broken clouds</dd>\\n<dt>Country</dt><dd>MG</dd>\\n<dt>Max Temp</dt><dd>66.58 °F</dd>\\n</dl>\\n', '\\n<dl>\\n<dt>Hotel Name</dt><dd>Royal On The Park Brisbane</dd>\\n<dt>City</dt><dd>brisbane</dd>\\n<dt>Current Description</dt><dd>broken clouds</dd>\\n<dt>Country</dt><dd>AU</dd>\\n<dt>Max Temp</dt><dd>68.14 °F</dd>\\n</dl>\\n', '\\n<dl>\\n<dt>Hotel Name</dt><dd>La Case Bambou</dd>\\n<dt>City</dt><dd>morondava</dd>\\n<dt>Current Description</dt><dd>clear sky</dd>\\n<dt>Country</dt><dd>MG</dd>\\n<dt>Max Temp</dt><dd>75.87 °F</dd>\\n</dl>\\n', '\\n<dl>\\n<dt>Hotel Name</dt><dd>Pousada Beija Flor</dd>\\n<dt>City</dt><dd>conde</dd>\\n<dt>Current Description</dt><dd>scattered clouds</dd>\\n<dt>Country</dt><dd>BR</dd>\\n<dt>Max Temp</dt><dd>78.26 °F</dd>\\n</dl>\\n', '\\n<dl>\\n<dt>Hotel Name</dt><dd>Caribbea Bay Hotel</dd>\\n<dt>City</dt><dd>kariba</dd>\\n<dt>Current Description</dt><dd>broken clouds</dd>\\n<dt>Country</dt><dd>ZW</dd>\\n<dt>Max Temp</dt><dd>67.91 °F</dd>\\n</dl>\\n', '\\n<dl>\\n<dt>Hotel Name</dt><dd>Amerian Catamarca Park Hotel</dd>\\n<dt>City</dt><dd>catamarca</dd>\\n<dt>Current Description</dt><dd>scattered clouds</dd>\\n<dt>Country</dt><dd>AR</dd>\\n<dt>Max Temp</dt><dd>71.58 °F</dd>\\n</dl>\\n', \"\\n<dl>\\n<dt>Hotel Name</dt><dd>Pousada Guará's</dd>\\n<dt>City</dt><dd>tutoia</dd>\\n<dt>Current Description</dt><dd>broken clouds</dd>\\n<dt>Country</dt><dd>BR</dd>\\n<dt>Max Temp</dt><dd>79.92 °F</dd>\\n</dl>\\n\", '\\n<dl>\\n<dt>Hotel Name</dt><dd>Protea Hotel by Marriott Zambezi River Lodge</dd>\\n<dt>City</dt><dd>sesheke</dd>\\n<dt>Current Description</dt><dd>clear sky</dd>\\n<dt>Country</dt><dd>ZM</dd>\\n<dt>Max Temp</dt><dd>65.43 °F</dd>\\n</dl>\\n', '\\n<dl>\\n<dt>Hotel Name</dt><dd>La Ode Husein</dd>\\n<dt>City</dt><dd>katobu</dd>\\n<dt>Current Description</dt><dd>broken clouds</dd>\\n<dt>Country</dt><dd>ID</dd>\\n<dt>Max Temp</dt><dd>74.53 °F</dd>\\n</dl>\\n']\n"
     ]
    }
   ],
   "source": [
    "# 2. Using the template add the city name, the country code, the weather description and maximum temperature for the city.\n",
    "info_box_template = \"\"\"\n",
    "<dl>\n",
    "<dt>Hotel Name</dt><dd>{Hotel Name}</dd>\n",
    "<dt>City</dt><dd>{City}</dd>\n",
    "<dt>Current Description</dt><dd>{Current Description}</dd>\n",
    "<dt>Country</dt><dd>{Country}</dd>\n",
    "<dt>Max Temp</dt><dd>{Max Temp} °F</dd>\n",
    "</dl>\n",
    "\"\"\"\n",
    "\n",
    "\n",
    "# 3a. Get the data from each row and add it to the formatting template and store the data in a list.\n",
    "hotel_info = [info_box_template.format(**row) for index, row in vacation_df.iterrows()]\n",
    "\n",
    "# 3b. Get the latitude and longitude from each row and store in a new DataFrame.\n",
    "locations = vacation_df[[\"Lat\", \"Lng\"]]\n",
    "\n",
    "print(hotel_info)"
   ]
  },
  {
   "cell_type": "code",
   "execution_count": 51,
   "metadata": {},
   "outputs": [
    {
     "data": {
      "application/vnd.jupyter.widget-view+json": {
       "model_id": "95016803bf0749e7836bc93a892c716b",
       "version_major": 2,
       "version_minor": 0
      },
      "text/plain": [
       "Figure(layout=FigureLayout(height='420px'))"
      ]
     },
     "metadata": {},
     "output_type": "display_data"
    }
   ],
   "source": [
    "# 4a. Add a marker layer for each city to the map.\n",
    "locations = vacation_df[[\"Lat\", \"Lng\"]]\n",
    "max_temp = vacation_df[\"Max Temp\"]\n",
    "fig = gmaps.figure(center=(30.0, 31.0), zoom_level=1.5)\n",
    "heat_layer = gmaps.heatmap_layer(locations, weights=max_temp,\n",
    "             dissipating=False, max_intensity=300, point_radius=4)\n",
    "marker_layer = gmaps.marker_layer(locations, info_box_content=hotel_info)\n",
    "\n",
    "\n",
    "fig.add_layer(heat_layer)\n",
    "fig.add_layer(marker_layer)\n",
    "\n",
    "# 4b. Display the figure\n",
    "\n",
    "fig"
   ]
  },
  {
   "cell_type": "code",
   "execution_count": 52,
   "metadata": {},
   "outputs": [
    {
     "data": {
      "text/html": [
       "<div>\n",
       "<style scoped>\n",
       "    .dataframe tbody tr th:only-of-type {\n",
       "        vertical-align: middle;\n",
       "    }\n",
       "\n",
       "    .dataframe tbody tr th {\n",
       "        vertical-align: top;\n",
       "    }\n",
       "\n",
       "    .dataframe thead th {\n",
       "        text-align: right;\n",
       "    }\n",
       "</style>\n",
       "<table border=\"1\" class=\"dataframe\">\n",
       "  <thead>\n",
       "    <tr style=\"text-align: right;\">\n",
       "      <th></th>\n",
       "      <th>City_ID</th>\n",
       "      <th>City</th>\n",
       "      <th>Country</th>\n",
       "      <th>Max Temp</th>\n",
       "      <th>Current Description</th>\n",
       "      <th>Lat</th>\n",
       "      <th>Lng</th>\n",
       "      <th>Hotel Name</th>\n",
       "    </tr>\n",
       "  </thead>\n",
       "  <tbody>\n",
       "    <tr>\n",
       "      <th>54</th>\n",
       "      <td>196</td>\n",
       "      <td>salinas</td>\n",
       "      <td>US</td>\n",
       "      <td>65.98</td>\n",
       "      <td>broken clouds</td>\n",
       "      <td>36.6777</td>\n",
       "      <td>-121.6555</td>\n",
       "      <td>Laurel Inn &amp; Conference Center</td>\n",
       "    </tr>\n",
       "  </tbody>\n",
       "</table>\n",
       "</div>"
      ],
      "text/plain": [
       "    City_ID     City Country  Max Temp Current Description      Lat       Lng  \\\n",
       "54      196  salinas      US     65.98       broken clouds  36.6777 -121.6555   \n",
       "\n",
       "                        Hotel Name  \n",
       "54  Laurel Inn & Conference Center  "
      ]
     },
     "execution_count": 52,
     "metadata": {},
     "output_type": "execute_result"
    }
   ],
   "source": [
    "# From the map above pick 4 cities and create a vacation itinerary route to travel between the four cities. \n",
    "# 5. Create DataFrames for each city by filtering the 'vacation_df' using the loc method. \n",
    "# Hint: The starting and ending city should be the same city.\n",
    "# Half Moon Bay, Aptos, San Jose, Salinas\n",
    "vacation_start=vacation_df.loc[vacation_df['City'] == 'half moon bay']\n",
    "vacation_end=vacation_df.loc[vacation_df['City'] == 'half moon bay']\n",
    "vacation_stop1 = vacation_df.loc[vacation_df['City'] == 'san jose']\n",
    "vacation_stop2 = vacation_df.loc[vacation_df['City'] == 'aptos']\n",
    "vacation_stop3 = vacation_df.loc[vacation_df['City'] == 'salinas']\n",
    "\n",
    "vacation_start_end_city_df=pd.DataFrame(vacation_start)\n",
    "#vacation_start_end_city_df\n",
    "vacation_stop1_df=pd.DataFrame(vacation_stop1)\n",
    "#vacation_stop1_df\n",
    "vacation_stop2_df=pd.DataFrame(vacation_stop2)\n",
    "#vacation_stop2_df\n",
    "vacation_stop3_df=pd.DataFrame(vacation_stop3)\n",
    "vacation_stop3_df"
   ]
  },
  {
   "cell_type": "code",
   "execution_count": 53,
   "metadata": {},
   "outputs": [
    {
     "name": "stdout",
     "output_type": "stream",
     "text": [
      "(37.4636, -122.4286)\n",
      "(37.4636, -122.4286)\n",
      "(37.3394, -121.895)\n",
      "(36.9772, -121.8994)\n",
      "(36.6777, -121.6555)\n"
     ]
    }
   ],
   "source": [
    "# 6. Get the latitude-longitude pairs as tuples from each city DataFrame using the to_numpy function and list indexing.\n",
    "\n",
    "#start = vacation_start_end_city_df[['Lat','Lng']].to_numpy() \n",
    "start_lat=vacation_start_end_city_df['Lat'].to_numpy()\n",
    "start_lng=vacation_start_end_city_df['Lng'].to_numpy()\n",
    "start_lat_lng=tuple(start_lat)+tuple(start_lng)\n",
    "#end = vacation_start_end_city_df[['Lat','Lng']].to_numpy() \n",
    "end_lat=vacation_start_end_city_df['Lat'].to_numpy()\n",
    "end_lng=vacation_start_end_city_df['Lng'].to_numpy()\n",
    "end_lat_lng=tuple(end_lat)+tuple(end_lng)\n",
    "#stop1 = vacation_stop1_df[['Lat','Lng']].to_numpy() \n",
    "stop1_lat=vacation_stop1_df['Lat'].to_numpy()\n",
    "stop1_lng=vacation_stop1_df['Lng'].to_numpy()\n",
    "stop1_lat_lng=tuple(stop1_lat)+tuple(stop1_lng)\n",
    "#stop2 = vacation_stop2_df[['Lat','Lng']].to_numpy() \n",
    "stop2_lat=vacation_stop2_df['Lat'].to_numpy()\n",
    "stop2_lng=vacation_stop2_df['Lng'].to_numpy()\n",
    "stop2_lat_lng=tuple(stop2_lat)+tuple(stop2_lng)\n",
    "#stop3 = vacation_stop3_df[['Lat','Lng']].to_numpy() \n",
    "stop3_lat=vacation_stop3_df['Lat'].to_numpy()\n",
    "stop3_lng=vacation_stop3_df['Lng'].to_numpy()\n",
    "stop3_lat_lng=tuple(stop3_lat)+tuple(stop3_lng)\n",
    "print(start_lat_lng)\n",
    "print(end_lat_lng)\n",
    "print(stop1_lat_lng)\n",
    "print(stop2_lat_lng)\n",
    "print(stop3_lat_lng)\n",
    "\n",
    "\n"
   ]
  },
  {
   "cell_type": "code",
   "execution_count": 54,
   "metadata": {},
   "outputs": [
    {
     "data": {
      "text/html": [
       "<div>\n",
       "<style scoped>\n",
       "    .dataframe tbody tr th:only-of-type {\n",
       "        vertical-align: middle;\n",
       "    }\n",
       "\n",
       "    .dataframe tbody tr th {\n",
       "        vertical-align: top;\n",
       "    }\n",
       "\n",
       "    .dataframe thead th {\n",
       "        text-align: right;\n",
       "    }\n",
       "</style>\n",
       "<table border=\"1\" class=\"dataframe\">\n",
       "  <thead>\n",
       "    <tr style=\"text-align: right;\">\n",
       "      <th></th>\n",
       "      <th>City_ID</th>\n",
       "      <th>City</th>\n",
       "      <th>Country</th>\n",
       "      <th>Max Temp</th>\n",
       "      <th>Current Description</th>\n",
       "      <th>Lat</th>\n",
       "      <th>Lng</th>\n",
       "      <th>Hotel Name</th>\n",
       "    </tr>\n",
       "  </thead>\n",
       "  <tbody>\n",
       "    <tr>\n",
       "      <th>0</th>\n",
       "      <td>170</td>\n",
       "      <td>half moon bay</td>\n",
       "      <td>US</td>\n",
       "      <td>66.06</td>\n",
       "      <td>clear sky</td>\n",
       "      <td>37.4636</td>\n",
       "      <td>-122.4286</td>\n",
       "      <td>The Ritz-Carlton, Half Moon Bay</td>\n",
       "    </tr>\n",
       "    <tr>\n",
       "      <th>1</th>\n",
       "      <td>119</td>\n",
       "      <td>san jose</td>\n",
       "      <td>US</td>\n",
       "      <td>66.00</td>\n",
       "      <td>broken clouds</td>\n",
       "      <td>37.3394</td>\n",
       "      <td>-121.8950</td>\n",
       "      <td>The Westin San Jose</td>\n",
       "    </tr>\n",
       "    <tr>\n",
       "      <th>2</th>\n",
       "      <td>288</td>\n",
       "      <td>aptos</td>\n",
       "      <td>US</td>\n",
       "      <td>66.31</td>\n",
       "      <td>broken clouds</td>\n",
       "      <td>36.9772</td>\n",
       "      <td>-121.8994</td>\n",
       "      <td>Seascape Beach Resort</td>\n",
       "    </tr>\n",
       "    <tr>\n",
       "      <th>3</th>\n",
       "      <td>196</td>\n",
       "      <td>salinas</td>\n",
       "      <td>US</td>\n",
       "      <td>65.98</td>\n",
       "      <td>broken clouds</td>\n",
       "      <td>36.6777</td>\n",
       "      <td>-121.6555</td>\n",
       "      <td>Laurel Inn &amp; Conference Center</td>\n",
       "    </tr>\n",
       "  </tbody>\n",
       "</table>\n",
       "</div>"
      ],
      "text/plain": [
       "   City_ID           City Country  Max Temp Current Description      Lat  \\\n",
       "0      170  half moon bay      US     66.06           clear sky  37.4636   \n",
       "1      119       san jose      US     66.00       broken clouds  37.3394   \n",
       "2      288          aptos      US     66.31       broken clouds  36.9772   \n",
       "3      196        salinas      US     65.98       broken clouds  36.6777   \n",
       "\n",
       "        Lng                       Hotel Name  \n",
       "0 -122.4286  The Ritz-Carlton, Half Moon Bay  \n",
       "1 -121.8950              The Westin San Jose  \n",
       "2 -121.8994            Seascape Beach Resort  \n",
       "3 -121.6555   Laurel Inn & Conference Center  "
      ]
     },
     "execution_count": 54,
     "metadata": {},
     "output_type": "execute_result"
    }
   ],
   "source": [
    "# 8. To create a marker layer map between the four cities.\n",
    "#  Combine the four city DataFrames into one DataFrame using the concat() function.\n",
    "\n",
    "itinerary_df = pd.concat([vacation_start_end_city_df,vacation_stop1_df,vacation_stop2_df,vacation_stop3_df],ignore_index=True)\n",
    "itinerary_df"
   ]
  },
  {
   "cell_type": "code",
   "execution_count": 55,
   "metadata": {},
   "outputs": [
    {
     "name": "stdout",
     "output_type": "stream",
     "text": [
      "['\\n<dl>\\n<dt>Hotel Name</dt><dd>The Ritz-Carlton, Half Moon Bay</dd>\\n<dt>City</dt><dd>half moon bay</dd>\\n<dt>Country</dt><dd>US</dd>\\n<dt>Current Description</dt><dd>clear sky</dd>\\n<dt>Max Temp</dt><dd>66.06 °F</dd>\\n</dl>\\n', '\\n<dl>\\n<dt>Hotel Name</dt><dd>The Westin San Jose</dd>\\n<dt>City</dt><dd>san jose</dd>\\n<dt>Country</dt><dd>US</dd>\\n<dt>Current Description</dt><dd>broken clouds</dd>\\n<dt>Max Temp</dt><dd>66.0 °F</dd>\\n</dl>\\n', '\\n<dl>\\n<dt>Hotel Name</dt><dd>Seascape Beach Resort</dd>\\n<dt>City</dt><dd>aptos</dd>\\n<dt>Country</dt><dd>US</dd>\\n<dt>Current Description</dt><dd>broken clouds</dd>\\n<dt>Max Temp</dt><dd>66.31 °F</dd>\\n</dl>\\n', '\\n<dl>\\n<dt>Hotel Name</dt><dd>Laurel Inn & Conference Center</dd>\\n<dt>City</dt><dd>salinas</dd>\\n<dt>Country</dt><dd>US</dd>\\n<dt>Current Description</dt><dd>broken clouds</dd>\\n<dt>Max Temp</dt><dd>65.98 °F</dd>\\n</dl>\\n']\n"
     ]
    },
    {
     "data": {
      "text/html": [
       "<div>\n",
       "<style scoped>\n",
       "    .dataframe tbody tr th:only-of-type {\n",
       "        vertical-align: middle;\n",
       "    }\n",
       "\n",
       "    .dataframe tbody tr th {\n",
       "        vertical-align: top;\n",
       "    }\n",
       "\n",
       "    .dataframe thead th {\n",
       "        text-align: right;\n",
       "    }\n",
       "</style>\n",
       "<table border=\"1\" class=\"dataframe\">\n",
       "  <thead>\n",
       "    <tr style=\"text-align: right;\">\n",
       "      <th></th>\n",
       "      <th>Lat</th>\n",
       "      <th>Lng</th>\n",
       "    </tr>\n",
       "  </thead>\n",
       "  <tbody>\n",
       "    <tr>\n",
       "      <th>0</th>\n",
       "      <td>37.4636</td>\n",
       "      <td>-122.4286</td>\n",
       "    </tr>\n",
       "    <tr>\n",
       "      <th>1</th>\n",
       "      <td>37.3394</td>\n",
       "      <td>-121.8950</td>\n",
       "    </tr>\n",
       "    <tr>\n",
       "      <th>2</th>\n",
       "      <td>36.9772</td>\n",
       "      <td>-121.8994</td>\n",
       "    </tr>\n",
       "    <tr>\n",
       "      <th>3</th>\n",
       "      <td>36.6777</td>\n",
       "      <td>-121.6555</td>\n",
       "    </tr>\n",
       "  </tbody>\n",
       "</table>\n",
       "</div>"
      ],
      "text/plain": [
       "       Lat       Lng\n",
       "0  37.4636 -122.4286\n",
       "1  37.3394 -121.8950\n",
       "2  36.9772 -121.8994\n",
       "3  36.6777 -121.6555"
      ]
     },
     "execution_count": 55,
     "metadata": {},
     "output_type": "execute_result"
    }
   ],
   "source": [
    "# 9 Using the template add city name, the country code, the weather description and maximum temperature for the city. \n",
    "info_box_template = \"\"\"\n",
    "<dl>\n",
    "<dt>Hotel Name</dt><dd>{Hotel Name}</dd>\n",
    "<dt>City</dt><dd>{City}</dd>\n",
    "<dt>Country</dt><dd>{Country}</dd>\n",
    "<dt>Current Description</dt><dd>{Current Description}</dd>\n",
    "<dt>Max Temp</dt><dd>{Max Temp} °F</dd>\n",
    "</dl>\n",
    "\"\"\"\n",
    "#\n",
    "# 10a Get the data from each row and add it to the formatting template and store the data in a list.\n",
    "hotel_info = [info_box_template.format(**row) for index, row in itinerary_df.iterrows()]\n",
    "\n",
    "# 10b. Get the latitude and longitude from each row and store in a new DataFrame.\n",
    "locations = itinerary_df[[\"Lat\", \"Lng\"]]\n",
    "print(hotel_info)\n",
    "locations"
   ]
  },
  {
   "cell_type": "code",
   "execution_count": 58,
   "metadata": {},
   "outputs": [
    {
     "data": {
      "application/vnd.jupyter.widget-view+json": {
       "model_id": "b60db3a5421e4da18b227018cb0026c4",
       "version_major": 2,
       "version_minor": 0
      },
      "text/plain": [
       "Figure(layout=FigureLayout(height='420px'))"
      ]
     },
     "metadata": {},
     "output_type": "display_data"
    }
   ],
   "source": [
    "# 11a. Add a marker layer for each city to the map.\n",
    "\n",
    "fig=gmaps.figure() \n",
    "#fig = gmaps.figure(center=(30.0, 31.0), zoom_level=1.5)\n",
    "start = start_lat_lng\n",
    "end = end_lat_lng\n",
    "waypoints = [stop1_lat_lng, stop2_lat_lng,stop3_lat_lng]\n",
    "directions = gmaps.directions_layer(start, end, waypoints=waypoints,travel_mode='DRIVING')\n",
    "\n",
    "\n",
    "marker_layer = gmaps.marker_layer(locations, info_box_content=hotel_info)\n",
    "\n",
    "fig.add_layer(directions)\n",
    "fig.add_layer(marker_layer)\n",
    "#\n",
    "\n",
    "# 11b. Display the figure\n",
    "fig"
   ]
  },
  {
   "cell_type": "markdown",
   "metadata": {},
   "source": [
    "********************Can't stop diections layer from overriding marker layer***********"
   ]
  },
  {
   "cell_type": "code",
   "execution_count": null,
   "metadata": {},
   "outputs": [],
   "source": []
  },
  {
   "cell_type": "code",
   "execution_count": null,
   "metadata": {},
   "outputs": [],
   "source": []
  }
 ],
 "metadata": {
  "kernelspec": {
   "display_name": "PythonData",
   "language": "python",
   "name": "pythondata"
  },
  "language_info": {
   "codemirror_mode": {
    "name": "ipython",
    "version": 3
   },
   "file_extension": ".py",
   "mimetype": "text/x-python",
   "name": "python",
   "nbconvert_exporter": "python",
   "pygments_lexer": "ipython3",
   "version": "3.6.10"
  },
  "latex_envs": {
   "LaTeX_envs_menu_present": true,
   "autoclose": false,
   "autocomplete": true,
   "bibliofile": "biblio.bib",
   "cite_by": "apalike",
   "current_citInitial": 1,
   "eqLabelWithNumbers": true,
   "eqNumInitial": 1,
   "hotkeys": {
    "equation": "Ctrl-E",
    "itemize": "Ctrl-I"
   },
   "labels_anchors": false,
   "latex_user_defs": false,
   "report_style_numbering": false,
   "user_envs_cfg": false
  }
 },
 "nbformat": 4,
 "nbformat_minor": 2
}
